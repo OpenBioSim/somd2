{
 "cells": [
  {
   "cell_type": "code",
   "execution_count": null,
   "id": "d086ec3c-3d0c-45b1-949f-0224e68043fe",
   "metadata": {},
   "outputs": [],
   "source": [
    "import sire as sr"
   ]
  },
  {
   "cell_type": "markdown",
   "id": "4721068a",
   "metadata": {},
   "source": [
    "# Positional Restraints\n",
    "This section of the notebook will demonstrate new sire positional restraint functionality, building to a system in which all molecules outside a defined 'bubble' are fixed in place "
   ]
  },
  {
   "cell_type": "code",
   "execution_count": null,
   "id": "c2e8df62-7bcd-4028-a97e-51ed67530ce0",
   "metadata": {},
   "outputs": [],
   "source": [
    "mols = sr.load_test_files(\"ala.top\", \"ala.crd\")\n",
    "mols.view()"
   ]
  },
  {
   "cell_type": "markdown",
   "id": "39a6ea9f",
   "metadata": {},
   "source": [
    "Use the new sire `restraints` functionality to create a `restraints` object, defining the restraints which are to be applied to the simulated system. In this case a simple positional restraint will be added to the alpha carbon of our alanine dipeptide"
   ]
  },
  {
   "cell_type": "code",
   "execution_count": null,
   "id": "169dbf60-fb80-469f-9859-d36ce6187ab4",
   "metadata": {},
   "outputs": [],
   "source": [
    "restraints = sr.restraints.positional(mols, \"resname ALA and atomname CA\")"
   ]
  },
  {
   "cell_type": "code",
   "execution_count": null,
   "id": "526b6399-68a3-4564-9ff7-72eb48748933",
   "metadata": {},
   "outputs": [],
   "source": [
    "restraints"
   ]
  },
  {
   "cell_type": "code",
   "execution_count": null,
   "id": "0f8ae7c2",
   "metadata": {},
   "outputs": [],
   "source": [
    "print(mols[0].atoms([8]))"
   ]
  },
  {
   "cell_type": "markdown",
   "id": "f1a2165d",
   "metadata": {},
   "source": [
    "`Restraint` can be further expanded to set the force constant `k` and the half-harmonic width `r0`, as well as set a restraint position"
   ]
  },
  {
   "cell_type": "code",
   "execution_count": null,
   "id": "a0f8acb9",
   "metadata": {},
   "outputs": [],
   "source": [
    "restraints = sr.restraints.positional(\n",
    "    mols,\n",
    "    \"resname ALA\",\n",
    "    k=\"100 kcal mol-1 A-2\",\n",
    "    r0=\"0.0 A\",\n",
    ")"
   ]
  },
  {
   "cell_type": "code",
   "execution_count": null,
   "id": "528b6d5f-05db-40ba-a85d-0f6a8dac8484",
   "metadata": {},
   "outputs": [],
   "source": [
    "mols = (\n",
    "    mols.minimisation(\n",
    "        restraints=restraints,\n",
    "    )\n",
    "    .run()\n",
    "    .commit()\n",
    ")"
   ]
  },
  {
   "cell_type": "code",
   "execution_count": null,
   "id": "4f3b87c7-641b-48fe-825e-390e5a08a26e",
   "metadata": {},
   "outputs": [],
   "source": [
    "d = mols.dynamics(\n",
    "    timestep=\"4fs\",\n",
    "    temperature=\"25oC\",\n",
    "    restraints=restraints,\n",
    ")"
   ]
  },
  {
   "cell_type": "code",
   "execution_count": null,
   "id": "b6df854a-7180-4b1f-88cf-331383747c35",
   "metadata": {},
   "outputs": [],
   "source": [
    "d.run(\"20ps\", frame_frequency=\"0.5ps\")"
   ]
  },
  {
   "cell_type": "code",
   "execution_count": null,
   "id": "47b25cfd-5282-4427-8588-7b28612d8a62",
   "metadata": {},
   "outputs": [],
   "source": [
    "mols = d.commit()\n",
    "mols.view()"
   ]
  },
  {
   "cell_type": "markdown",
   "id": "5e1a166c",
   "metadata": {},
   "source": [
    "This functionality can be expanded to, for example, freeze all atoms outside a given distance of the ligand, effectively truncating the simulated region (note that this currently doesn't improve performance, a future update will add the ability to approximate the contributions of the frozen atoms).\n",
    "\n",
    "This is a two-part process, first we restrain the atoms within the bubble itself in order to prevent them from leaving it, this is achieved with the `restraints.positional` functionality seen above:"
   ]
  },
  {
   "cell_type": "code",
   "execution_count": null,
   "id": "a9200af9",
   "metadata": {},
   "outputs": [],
   "source": [
    "restraints_bubble = sr.restraints.positional(\n",
    "    mols,\n",
    "    \"molecules within 7.5 of resname ALA\",\n",
    "    position=mols[\"resname ALA\"].coordinates(),\n",
    "    r0=sr.u(\"10 A\"),\n",
    ")"
   ]
  },
  {
   "cell_type": "markdown",
   "id": "2a71791c",
   "metadata": {},
   "source": [
    "Next, we pass the `fixed` argument in to both minimisation and dynamics (alternatively `fixed` can be specified along with all other simulation options within `map`)"
   ]
  },
  {
   "cell_type": "code",
   "execution_count": null,
   "id": "f9375540",
   "metadata": {},
   "outputs": [],
   "source": [
    "mols = (\n",
    "    mols.minimisation(\n",
    "        restraints=restraints_bubble, fixed=\"not (molecules within 7.5 of molidx 0)\"\n",
    "    )\n",
    "    .run()\n",
    "    .commit()\n",
    ")"
   ]
  },
  {
   "cell_type": "code",
   "execution_count": null,
   "id": "91377b33",
   "metadata": {},
   "outputs": [],
   "source": [
    "map = {\n",
    "    \"restraints\": restraints_bubble,\n",
    "    \"fixed\": \"not (molecules within 7.5 of molidx 0)\",\n",
    "    \"temperature\": 300 * sr.units.kelvin,\n",
    "}\n",
    "d = mols.dynamics(map=map)"
   ]
  },
  {
   "cell_type": "code",
   "execution_count": null,
   "id": "650106cd",
   "metadata": {},
   "outputs": [],
   "source": [
    "d.run(\"20ps\", frame_frequency=\"0.5ps\")"
   ]
  },
  {
   "cell_type": "code",
   "execution_count": null,
   "id": "cdce4dbd",
   "metadata": {},
   "outputs": [],
   "source": [
    "mols = d.commit()\n",
    "mols.view()"
   ]
  },
  {
   "cell_type": "markdown",
   "id": "0e53a900",
   "metadata": {},
   "source": [
    "At a lower level, restraints can be passed in the `map` argument of `sire.convert`. This creates an openMM context."
   ]
  },
  {
   "cell_type": "code",
   "execution_count": null,
   "id": "a3c14fc9",
   "metadata": {},
   "outputs": [],
   "source": [
    "omm = sr.convert.to(mols, \"openmm\", map={\"restraints\": restraints})\n",
    "omm"
   ]
  },
  {
   "cell_type": "markdown",
   "id": "bfb8b8db",
   "metadata": {},
   "source": [
    "# Higher order restraints\n",
    "Sire currently also supports the addition of distance restraints, as well as Boresch restraints"
   ]
  },
  {
   "cell_type": "code",
   "execution_count": null,
   "id": "af92fdea",
   "metadata": {},
   "outputs": [],
   "source": [
    "sr.restraints.distance(\n",
    "    mols,\n",
    "    atoms0=mols[\"resname ALA and atomname CA\"],\n",
    "    atoms1=mols[\"resname ALA and atomname N\"],\n",
    ")"
   ]
  },
  {
   "cell_type": "markdown",
   "id": "28d2e560",
   "metadata": {},
   "source": [
    "Example of boresch restraints? Using tyk2?"
   ]
  }
 ],
 "metadata": {
  "kernelspec": {
   "display_name": "Python 3 (ipykernel)",
   "language": "python",
   "name": "python3"
  },
  "language_info": {
   "codemirror_mode": {
    "name": "ipython",
    "version": 3
   },
   "file_extension": ".py",
   "mimetype": "text/x-python",
   "name": "python",
   "nbconvert_exporter": "python",
   "pygments_lexer": "ipython3"
  }
 },
 "nbformat": 4,
 "nbformat_minor": 5
}
