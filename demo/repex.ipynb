{
 "cells": [
  {
   "cell_type": "code",
   "execution_count": null,
   "id": "510fe067-ffb7-45d1-a18e-8aaf27f8036d",
   "metadata": {},
   "outputs": [],
   "source": [
    "import sire as sr"
   ]
  },
  {
   "cell_type": "markdown",
   "id": "83fcc9a0",
   "metadata": {},
   "source": [
    "# Replica Exchange\n",
    "\n",
    "The ease with which multiple simulations can be handled simultaneously allows for a simple implementation of replica exchange."
   ]
  },
  {
   "cell_type": "markdown",
   "id": "a2912617-c78d-40c1-b846-c3d4633bd7d9",
   "metadata": {},
   "source": [
    "Load an example perturbable system"
   ]
  },
  {
   "cell_type": "code",
   "execution_count": null,
   "id": "957ecaa8-6885-441a-9c5a-c59671522c9b",
   "metadata": {},
   "outputs": [],
   "source": [
    "mols = sr.load_test_files(\"merged_molecule.s3\")"
   ]
  },
  {
   "cell_type": "markdown",
   "id": "e393e257-a50d-4204-97d2-0ddd9a2d60b4",
   "metadata": {},
   "source": [
    "Create two replicas of the system, at two different lambda values"
   ]
  },
  {
   "cell_type": "code",
   "execution_count": null,
   "id": "75b9681f-59cf-424e-ba00-b7d63415c396",
   "metadata": {},
   "outputs": [],
   "source": [
    "rep0 = mols.dynamics(timestep=\"4fs\", temperature=\"25oC\", lambda_value=0.0)"
   ]
  },
  {
   "cell_type": "code",
   "execution_count": null,
   "id": "e7f24c6f-8c69-475c-bd0b-c576ee8419f5",
   "metadata": {},
   "outputs": [],
   "source": [
    "rep1 = mols.dynamics(timestep=\"4fs\", temperature=\"25oC\", lambda_value=0.2)"
   ]
  },
  {
   "cell_type": "markdown",
   "id": "573869dd",
   "metadata": {},
   "source": [
    "### Implementation of a minimal `replica_exchange` function\n",
    "\n",
    "This function takes in a pair of sire `dynamics` objects and performs a Hamiltonian replica exchange move, returning the two systems as well as a boolean that indicates whether or not the move was accepted"
   ]
  },
  {
   "cell_type": "code",
   "execution_count": null,
   "id": "0304cd61",
   "metadata": {},
   "outputs": [],
   "source": [
    "def replica_exchange(replica0, replica1):\n",
    "\n",
    "    #Retrieve the information we need for each replica from the dynamics objects\n",
    "    lam0 = replica0.get_lambda()\n",
    "    lam1 = replica1.get_lambda()\n",
    "\n",
    "    ensemble0 = replica0.ensemble()\n",
    "    ensemble1 = replica1.ensemble()\n",
    "\n",
    "    temperature0 = ensemble0.temperature()\n",
    "    temperature1 = ensemble1.temperature()\n",
    "\n",
    "    #The lambda_values argument allows us to retrieve the potential energy from both objects at both lambda values\n",
    "    nrgs0 = replica0.current_potential_energy(lambda_values=[lam0,lam1])\n",
    "    nrgs1 = replica1.current_potential_energy(lambda_values=[lam0,lam1])\n",
    "\n",
    "    from sire.units import k_boltz\n",
    "\n",
    "    beta0 = 1.0 / (k_boltz * temperature0)\n",
    "    beta1 = 1.0 / (k_boltz * temperature1)\n",
    "\n",
    "    #Check properties of the ensemble to see if we need to include a pressure term\n",
    "    if not ensemble0.is_constant_pressure():\n",
    "        delta = beta1 * (nrgs1[0] - nrgs1[1]) + beta0 * (nrgs0[0] - nrgs0[1])\n",
    "    else:\n",
    "        volume0 = replica0.current_space().volume()\n",
    "        volume1 = replica1.current_space().volume()\n",
    "\n",
    "        pressure0 = ensemble0.pressure()\n",
    "        pressure1 = ensemble1.pressure()\n",
    "\n",
    "        delta = beta1 * (\n",
    "            nrgs1[0] - nrgs1[1] + pressure1 * (volume1 - volume0)\n",
    "        ) + beta0 * (nrgs0[0] - nrgs0[1] + pressure0 * (volume0 - volume1))\n",
    "    \n",
    "    from math import exp\n",
    "    import random\n",
    "\n",
    "    move_passed = delta > 0 or (exp(delta) >= random.random())\n",
    "\n",
    "    if move_passed:\n",
    "        if lam0 != lam1:\n",
    "            replica0.set_lambda(lam1)\n",
    "            replica1.set_lambda(lam0)\n",
    "        return (replica1, replica0, True)\n",
    "\n",
    "    else:\n",
    "        return (replica0, replica1, False)\n"
   ]
  },
  {
   "cell_type": "markdown",
   "id": "38ebb8b1-7056-4873-b87a-1a1d8754472c",
   "metadata": {},
   "source": [
    "Run dynamics on both replicas. We'll minimise each replica first, to prevent NaN errors. The error catching will mostly catch these and auto-minimise if found (i.e. you could comment out the minimisation lines)"
   ]
  },
  {
   "cell_type": "code",
   "execution_count": null,
   "id": "c7f26b29-f270-4b0a-aeba-7200c9439945",
   "metadata": {},
   "outputs": [],
   "source": [
    "rep0.minimise()\n",
    "rep0.run(\"5ps\")"
   ]
  },
  {
   "cell_type": "code",
   "execution_count": null,
   "id": "158c49b5-4a42-4697-8e59-4e682f1905de",
   "metadata": {},
   "outputs": [],
   "source": [
    "rep1.minimise()\n",
    "rep1.run(\"5ps\")"
   ]
  },
  {
   "cell_type": "markdown",
   "id": "38d21dfe-212f-480a-9d0e-2a1934fa93af",
   "metadata": {},
   "source": [
    "Perform a replica exchange move between these two replicas. If the move passes, then the replicas are swapped (by swapping their lambda values). They are returned from this function in the same lambda order as they went in (i.e. in increasing lambda order)"
   ]
  },
  {
   "cell_type": "code",
   "execution_count": null,
   "id": "6abfb021-1fd5-4faa-8b5c-f5631f88931c",
   "metadata": {},
   "outputs": [],
   "source": [
    "(rep0, rep1, swapped) = replica_exchange(rep0, rep1)"
   ]
  },
  {
   "cell_type": "markdown",
   "id": "dc19d9c6-14ed-4807-bc05-741b09219370",
   "metadata": {},
   "source": [
    "Was the move successful?"
   ]
  },
  {
   "cell_type": "code",
   "execution_count": null,
   "id": "9ac37cac-a278-431d-a50d-ce0d45f0dd10",
   "metadata": {},
   "outputs": [],
   "source": [
    "print(\"Swapped?\", swapped)"
   ]
  },
  {
   "cell_type": "markdown",
   "id": "cfd648a1-9f90-4a5f-92a6-7453c2a1e6fe",
   "metadata": {},
   "source": [
    "Even if they were swapped, the order of lambda is preserved"
   ]
  },
  {
   "cell_type": "code",
   "execution_count": null,
   "id": "12a7e248-881b-4ec4-be65-9c65d25541cc",
   "metadata": {},
   "outputs": [],
   "source": [
    "print(rep0.get_lambda(), rep1.get_lambda())"
   ]
  },
  {
   "cell_type": "markdown",
   "id": "e6ef979f",
   "metadata": {},
   "source": [
    "#### This functionality also exists within the current version of sire (the sire version also supports temperature-based repex) and can be accessed with `sire.morph.replica_exchange`"
   ]
  },
  {
   "cell_type": "code",
   "execution_count": null,
   "id": "2b8f77f2",
   "metadata": {},
   "outputs": [],
   "source": [
    "(rep0, rep1, swapped) = sr.morph.replica_exchange(rep0, rep1)"
   ]
  },
  {
   "cell_type": "code",
   "execution_count": null,
   "id": "8c349f46",
   "metadata": {},
   "outputs": [],
   "source": [
    "print(\"Swapped?\", swapped)\n",
    "print(rep0.get_lambda(), rep1.get_lambda())"
   ]
  },
  {
   "cell_type": "markdown",
   "id": "c9e0078a",
   "metadata": {},
   "source": [
    "# Non-equilibrium switching\n",
    "\n",
    "Direct access to the lambda value of dyamics objects allows it to be changed on-the-fly"
   ]
  },
  {
   "cell_type": "code",
   "execution_count": null,
   "id": "1e578418",
   "metadata": {},
   "outputs": [],
   "source": [
    "d = mols.dynamics(timestep=\"4fs\", temperature=\"25oC\", lambda_value=0.0, energy_frequency=sr.u(\"1ps\"))"
   ]
  },
  {
   "cell_type": "code",
   "execution_count": null,
   "id": "ef51e597",
   "metadata": {},
   "outputs": [],
   "source": [
    "d.minimise()\n",
    "d.run(\"5ps\")"
   ]
  },
  {
   "cell_type": "code",
   "execution_count": null,
   "id": "f43f45d4",
   "metadata": {},
   "outputs": [],
   "source": [
    "d.get_lambda()"
   ]
  },
  {
   "cell_type": "code",
   "execution_count": null,
   "id": "c40db3ed",
   "metadata": {},
   "outputs": [],
   "source": [
    "d.set_lambda(1.0)\n",
    "d.run(\"5ps\")"
   ]
  },
  {
   "cell_type": "code",
   "execution_count": null,
   "id": "2b50b17e",
   "metadata": {},
   "outputs": [],
   "source": [
    "d.get_lambda()"
   ]
  },
  {
   "cell_type": "code",
   "execution_count": null,
   "id": "7910c234",
   "metadata": {},
   "outputs": [],
   "source": [
    "df = d.energy_trajectory(to_pandas=True)\n",
    "df"
   ]
  },
  {
   "cell_type": "code",
   "execution_count": null,
   "id": "4cb7b999",
   "metadata": {},
   "outputs": [],
   "source": []
  }
 ],
 "metadata": {
  "kernelspec": {
   "display_name": "Python 3 (ipykernel)",
   "language": "python",
   "name": "python3"
  },
  "language_info": {
   "codemirror_mode": {
    "name": "ipython",
    "version": 3
   },
   "file_extension": ".py",
   "mimetype": "text/x-python",
   "name": "python",
   "nbconvert_exporter": "python",
   "pygments_lexer": "ipython3",
   "version": "3.10.12"
  }
 },
 "nbformat": 4,
 "nbformat_minor": 5
}
