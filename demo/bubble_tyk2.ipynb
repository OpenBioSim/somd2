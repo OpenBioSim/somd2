{
 "cells": [
  {
   "cell_type": "code",
   "execution_count": null,
   "id": "d086ec3c-3d0c-45b1-949f-0224e68043fe",
   "metadata": {},
   "outputs": [],
   "source": [
    "import sire as sr"
   ]
  },
  {
   "cell_type": "code",
   "execution_count": null,
   "id": "c2e8df62-7bcd-4028-a97e-51ed67530ce0",
   "metadata": {},
   "outputs": [],
   "source": [
    "mols = sr.stream.load(\"bound_31_42.bss\")\n",
    "mols.add_shared_property(\"space\", mols.property(\"space\"))\n",
    "timestep = \"1fs\""
   ]
  },
  {
   "cell_type": "code",
   "execution_count": null,
   "id": "169dbf60-fb80-469f-9859-d36ce6187ab4",
   "metadata": {},
   "outputs": [],
   "source": [
    "# link reference properties to main properties\n",
    "for mol in mols.molecules(\"molecule property is_perturbable\"):\n",
    "    mols.update(mol.perturbation().link_to_reference().commit())"
   ]
  },
  {
   "cell_type": "code",
   "execution_count": null,
   "id": "ccde94f0",
   "metadata": {},
   "outputs": [],
   "source": [
    "ligand = mols[\"molecule with property is_perturbable\"]\n",
    "ligand"
   ]
  },
  {
   "cell_type": "code",
   "execution_count": null,
   "id": "f8dbad46",
   "metadata": {},
   "outputs": [],
   "source": [
    "ligand_center = ligand.evaluate().center()\n",
    "radius = \"15 A\""
   ]
  },
  {
   "cell_type": "code",
   "execution_count": null,
   "id": "0e3a9d11",
   "metadata": {},
   "outputs": [],
   "source": [
    "restraints = sr.restraints.positional(\n",
    "    mols,\n",
    "    f\"residues within {radius} of {ligand_center}\",\n",
    "    position=ligand_center,\n",
    "    r0=radius,\n",
    "    k=\"10 kcal mol-1 A-2\",\n",
    ")"
   ]
  },
  {
   "cell_type": "code",
   "execution_count": null,
   "id": "9f711a43",
   "metadata": {},
   "outputs": [],
   "source": [
    "restraints"
   ]
  },
  {
   "cell_type": "code",
   "execution_count": null,
   "id": "72927a60",
   "metadata": {},
   "outputs": [],
   "source": [
    "mols = (\n",
    "    mols.minimisation(\n",
    "        fixed=f\"not (residues within {radius} of {ligand_center})\",\n",
    "        restraints=restraints,\n",
    "        map={\"ignore_perturbations\": True},\n",
    "    )\n",
    "    .run()\n",
    "    .commit()\n",
    ")"
   ]
  },
  {
   "cell_type": "code",
   "execution_count": null,
   "id": "648ece01",
   "metadata": {},
   "outputs": [],
   "source": [
    "d = mols.dynamics(\n",
    "    timestep=timestep,\n",
    "    temperature=\"25oC\",\n",
    "    restraints=restraints,\n",
    "    fixed=f\"not (residues within {radius} of {ligand_center})\",\n",
    ")"
   ]
  },
  {
   "cell_type": "code",
   "execution_count": null,
   "id": "460f5a9c",
   "metadata": {},
   "outputs": [],
   "source": [
    "d.run(\"200ps\", save_frequency=\"1ps\")"
   ]
  },
  {
   "cell_type": "code",
   "execution_count": null,
   "id": "8c297b9d",
   "metadata": {},
   "outputs": [],
   "source": [
    "mols = d.commit()"
   ]
  },
  {
   "cell_type": "code",
   "execution_count": null,
   "id": "a3af4a74",
   "metadata": {},
   "outputs": [],
   "source": [
    "sr.save(mols.trajectory()[0], \"tyk2_bubble\", format=[\"pdb\"])"
   ]
  },
  {
   "cell_type": "code",
   "execution_count": null,
   "id": "c39e1ee9",
   "metadata": {},
   "outputs": [],
   "source": [
    "sr.save(mols.trajectory(), \"tyk2_bubble\", format=[\"DCD\"])"
   ]
  }
 ],
 "metadata": {
  "kernelspec": {
   "display_name": "Python 3 (ipykernel)",
   "language": "python",
   "name": "python3"
  },
  "language_info": {
   "codemirror_mode": {
    "name": "ipython",
    "version": 3
   },
   "file_extension": ".py",
   "mimetype": "text/x-python",
   "name": "python",
   "nbconvert_exporter": "python",
   "pygments_lexer": "ipython3"
  }
 },
 "nbformat": 4,
 "nbformat_minor": 5
}
