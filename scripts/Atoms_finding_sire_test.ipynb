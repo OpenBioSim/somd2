{
 "cells": [
  {
   "attachments": {},
   "cell_type": "markdown",
   "metadata": {},
   "source": [
    "A simple jupyter notebook used to find heavy atoms within 12 and 15 angstrom of a ligand. Assumes that files 1a~1b.prm7 and 1a~1b.rst7 are in the same directory."
   ]
  },
  {
   "cell_type": "code",
   "execution_count": 1,
   "metadata": {},
   "outputs": [],
   "source": [
    "import sire as sr\n",
    "import re"
   ]
  },
  {
   "cell_type": "code",
   "execution_count": 2,
   "metadata": {},
   "outputs": [
    {
     "ename": "OSError",
     "evalue": "Cannot find file '1a~1b.prm7'",
     "output_type": "error",
     "traceback": [
      "\u001b[0;31m---------------------------------------------------------------------------\u001b[0m",
      "\u001b[0;31mOSError\u001b[0m                                   Traceback (most recent call last)",
      "Cell \u001b[0;32mIn[2], line 2\u001b[0m\n\u001b[1;32m      1\u001b[0m root \u001b[39m=\u001b[39m \u001b[39m\"\u001b[39m\u001b[39m1a~1b\u001b[39m\u001b[39m\"\u001b[39m\n\u001b[0;32m----> 2\u001b[0m mols \u001b[39m=\u001b[39m sr\u001b[39m.\u001b[39;49mload(\u001b[39m\"\u001b[39;49m\u001b[39m%s\u001b[39;49;00m\u001b[39m.prm7\u001b[39;49m\u001b[39m\"\u001b[39;49m \u001b[39m%\u001b[39;49m root , \u001b[39m\"\u001b[39;49m\u001b[39m%s\u001b[39;49;00m\u001b[39m.rst7\u001b[39;49m\u001b[39m\"\u001b[39;49m \u001b[39m%\u001b[39;49m root)\n",
      "File \u001b[0;32m~/mambaforge/envs/openbiosim/lib/python3.10/site-packages/sire/_load.py:399\u001b[0m, in \u001b[0;36mload\u001b[0;34m(path, show_warnings, silent, directory, gromacs_path, parallel, map, *args, **kwargs)\u001b[0m\n\u001b[1;32m    395\u001b[0m p \u001b[39m=\u001b[39m []\n\u001b[1;32m    397\u001b[0m \u001b[39mfor\u001b[39;00m i \u001b[39min\u001b[39;00m \u001b[39mrange\u001b[39m(\u001b[39m0\u001b[39m, \u001b[39mlen\u001b[39m(paths)):\n\u001b[1;32m    398\u001b[0m     \u001b[39m# resolve the paths, downloading as needed\u001b[39;00m\n\u001b[0;32m--> 399\u001b[0m     p \u001b[39m+\u001b[39m\u001b[39m=\u001b[39m _resolve_path(paths[i], directory\u001b[39m=\u001b[39;49mdirectory, silent\u001b[39m=\u001b[39;49msilent)\n\u001b[1;32m    401\u001b[0m paths \u001b[39m=\u001b[39m p\n\u001b[1;32m    403\u001b[0m \u001b[39mif\u001b[39;00m \u001b[39mlen\u001b[39m(paths) \u001b[39m==\u001b[39m \u001b[39m0\u001b[39m:\n",
      "File \u001b[0;32m~/mambaforge/envs/openbiosim/lib/python3.10/site-packages/sire/_load.py:261\u001b[0m, in \u001b[0;36m_resolve_path\u001b[0;34m(path, directory, silent)\u001b[0m\n\u001b[1;32m    257\u001b[0m         paths \u001b[39m+\u001b[39m\u001b[39m=\u001b[39m _resolve_path(match, directory\u001b[39m=\u001b[39mdirectory, silent\u001b[39m=\u001b[39msilent)\n\u001b[1;32m    259\u001b[0m     \u001b[39mreturn\u001b[39;00m paths\n\u001b[0;32m--> 261\u001b[0m \u001b[39mraise\u001b[39;00m \u001b[39mIOError\u001b[39;00m(\u001b[39mf\u001b[39m\u001b[39m\"\u001b[39m\u001b[39mCannot find file \u001b[39m\u001b[39m'\u001b[39m\u001b[39m{\u001b[39;00mpath\u001b[39m}\u001b[39;00m\u001b[39m'\u001b[39m\u001b[39m\"\u001b[39m)\n",
      "\u001b[0;31mOSError\u001b[0m: Cannot find file '1a~1b.prm7'"
     ]
    }
   ],
   "source": [
    "root = \"1a~1b\"\n",
    "mols = sr.load(\"%s.prm7\" % root , \"%s.rst7\" % root)"
   ]
  },
  {
   "attachments": {},
   "cell_type": "markdown",
   "metadata": {},
   "source": [
    "Change \"root\" variable according to your input file names"
   ]
  },
  {
   "cell_type": "code",
   "execution_count": null,
   "metadata": {},
   "outputs": [],
   "source": [
    "sr.search.set_token(\"lnd\",\"resname LIG\")\n",
    "#sr.search.set_token(\"lnd\",\"count(atoms) > 1 and not (protein or water)\")\n",
    "ligand = mols[\"lnd\"]"
   ]
  },
  {
   "attachments": {},
   "cell_type": "markdown",
   "metadata": {},
   "source": [
    "Uses a sire search token to define the criteria for the ligand, in this case the ligand is simply anything within a residue with residue name ``LIG``\n",
    "\n",
    "Can use some alternative search mechanism like ``sr.search.set_token(\"lnd\",\"count(atoms) > 1 and not (protein or water)\")``. This doesn't work in this case because the some parts of the truncated protein are not identified by ``protein``. A possible solution to this could be to instead search for ``not amino acid`` instead, need to check sire search functionality to see exactly how this is done."
   ]
  },
  {
   "cell_type": "code",
   "execution_count": null,
   "metadata": {},
   "outputs": [],
   "source": [
    "ligand.view()"
   ]
  },
  {
   "attachments": {},
   "cell_type": "markdown",
   "metadata": {},
   "source": [
    "Use ``view`` to check that the ligand and only the ligand is captured."
   ]
  },
  {
   "cell_type": "code",
   "execution_count": null,
   "metadata": {},
   "outputs": [],
   "source": [
    "residues = mols[\"((atoms within 15 of lnd) and (not atoms within 12 of lnd)) and protein\"]"
   ]
  },
  {
   "attachments": {},
   "cell_type": "markdown",
   "metadata": {},
   "source": [
    "Finds all atoms between 12 and 15 angstrom from the ligand. ``atoms`` can be swapped with ``residues`` if only complete residues are required. \n",
    "This still includes hydrogen atoms - need only heavy atoms."
   ]
  },
  {
   "cell_type": "code",
   "execution_count": null,
   "metadata": {},
   "outputs": [],
   "source": [
    "residues.view()"
   ]
  },
  {
   "cell_type": "code",
   "execution_count": null,
   "metadata": {},
   "outputs": [],
   "source": [
    "heavy = residues[\"not atomname /H*/\"]"
   ]
  },
  {
   "attachments": {},
   "cell_type": "markdown",
   "metadata": {},
   "source": [
    "Remove hydrogen atoms,"
   ]
  },
  {
   "cell_type": "code",
   "execution_count": null,
   "metadata": {},
   "outputs": [],
   "source": [
    "heavy.view()"
   ]
  },
  {
   "cell_type": "code",
   "execution_count": null,
   "metadata": {},
   "outputs": [],
   "source": [
    "an = heavy.numbers()"
   ]
  },
  {
   "cell_type": "code",
   "execution_count": null,
   "metadata": {},
   "outputs": [],
   "source": [
    "nums = []\n",
    "for at in an:\n",
    "    nums.append(int(re.findall(r'\\d+',str(at))[0]))"
   ]
  },
  {
   "attachments": {},
   "cell_type": "markdown",
   "metadata": {},
   "source": [
    "Write atom numbers to a list in the form required by the addanchors script."
   ]
  },
  {
   "cell_type": "code",
   "execution_count": null,
   "metadata": {},
   "outputs": [],
   "source": [
    "print(nums)"
   ]
  }
 ],
 "metadata": {
  "kernelspec": {
   "display_name": "sireDEV",
   "language": "python",
   "name": "python3"
  },
  "language_info": {
   "codemirror_mode": {
    "name": "ipython",
    "version": 3
   },
   "file_extension": ".py",
   "mimetype": "text/x-python",
   "name": "python",
   "nbconvert_exporter": "python",
   "pygments_lexer": "ipython3",
   "version": "3.10.10"
  },
  "orig_nbformat": 4
 },
 "nbformat": 4,
 "nbformat_minor": 2
}
