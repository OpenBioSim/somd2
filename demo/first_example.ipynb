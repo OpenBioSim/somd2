{
 "cells": [
  {
   "cell_type": "markdown",
   "metadata": {},
   "source": [
    "# Perturbable System first example\n",
    "\n",
    "This notebook will outline the basics of the new sire OpenMM functionality."
   ]
  },
  {
   "cell_type": "code",
   "execution_count": null,
   "metadata": {},
   "outputs": [],
   "source": [
    "import BioSimSpace as BSS\n",
    "import sire as sr"
   ]
  },
  {
   "cell_type": "markdown",
   "metadata": {},
   "source": [
    "# Merged Molecules\n",
    "This section will demonstrate the creation and visualisation of perturbations using BioSimSpace and sire, the system in this case will be a simple ethane &rarr; methanol transformation"
   ]
  },
  {
   "cell_type": "code",
   "execution_count": null,
   "metadata": {},
   "outputs": [],
   "source": [
    "ethane = BSS.Parameters.gaff(\"CC\").getMolecule()\n",
    "methanol = BSS.Parameters.gaff(\"CO\").getMolecule()\n",
    "mapping = BSS.Align.matchAtoms(ethane, methanol)\n",
    "ethane = BSS.Align.rmsdAlign(ethane, methanol, mapping)\n",
    "merged = BSS.Align.merge(ethane, methanol, mapping)\n",
    "\n",
    "solvated = BSS.Solvent.tip3p(molecule=merged, box=3 * [3 * BSS.Units.Length.nanometer])"
   ]
  },
  {
   "cell_type": "code",
   "execution_count": null,
   "metadata": {},
   "outputs": [],
   "source": [
    "# Convert BioSimSpace to sire\n",
    "sire_system = sr.convert.to(solvated, \"sire\")"
   ]
  },
  {
   "cell_type": "code",
   "execution_count": null,
   "metadata": {},
   "outputs": [],
   "source": [
    "for mol in sire_system.molecules():\n",
    "    if mol.is_perturbable():\n",
    "        temp = mol\n",
    "\n",
    "temp.perturbation().view()"
   ]
  },
  {
   "cell_type": "markdown",
   "metadata": {},
   "source": [
    "# Running simulations of perturbed systems\n",
    "\n",
    "#### Once a perturbed molecule has been created `sire` can be used directly to run simulations and extract energy information.\n",
    "\n",
    "Here we will run a single simulation of the above perturbation at a lambda value of 0.5\n",
    "By default, lambda behaviour is controlled by a simple morph, the same as `SOMD1`"
   ]
  },
  {
   "cell_type": "code",
   "execution_count": null,
   "metadata": {},
   "outputs": [],
   "source": [
    "import sire as sr"
   ]
  },
  {
   "cell_type": "markdown",
   "metadata": {},
   "source": [
    "Perturbable sire systems can be minimised directly at any chosen lambda value, functionality here is a wrapper around openmm minimisation"
   ]
  },
  {
   "cell_type": "code",
   "execution_count": null,
   "metadata": {},
   "outputs": [],
   "source": [
    "m = sire_system.minimisation(lambda_val=0.5)\n",
    "sire_system = m.run().commit()"
   ]
  },
  {
   "cell_type": "markdown",
   "metadata": {},
   "source": [
    "Production simulations can also be run using sire dynamics - this is a simple wrapper around openMM, it adds convenience such as trajectory saving & automated calculation of energies\n",
    "\n",
    "Here, the `lambda_values` array is used to specify all lambda values at which the potential is to be calculated."
   ]
  },
  {
   "cell_type": "code",
   "execution_count": null,
   "metadata": {},
   "outputs": [],
   "source": [
    "d = sire_system.dynamics(lambda_value=0.5)\n",
    "d.run(\"10ps\", energy_frequency=\"0.1ps\", lambda_windows=[0.0, 1.0])\n",
    "sire_system = d.commit()\n",
    "sire_system.energy_trajectory()"
   ]
  },
  {
   "cell_type": "markdown",
   "metadata": {},
   "source": [
    "# OpenMM functionality\n",
    "\n",
    "Alternatively, the perturbable sire system can be converted to openMM, resulting in a `SOMMContext`, a simple wrapper around the `OpenMM::context` class containing information on the perturbation "
   ]
  },
  {
   "cell_type": "code",
   "execution_count": null,
   "metadata": {},
   "outputs": [],
   "source": [
    "omm = sr.convert.to(sire_system, \"openmm\")\n",
    "omm"
   ]
  },
  {
   "cell_type": "markdown",
   "metadata": {},
   "source": [
    "Additional information regarding lambda can be set and called directly with this context"
   ]
  },
  {
   "cell_type": "code",
   "execution_count": null,
   "metadata": {},
   "outputs": [],
   "source": [
    "omm.set_lambda(0.5)\n",
    "omm.get_lambda()"
   ]
  },
  {
   "cell_type": "markdown",
   "metadata": {},
   "source": [
    "Simulations can then be run directly using this context, in precisely the same manner as any other openMM context"
   ]
  },
  {
   "cell_type": "code",
   "execution_count": null,
   "metadata": {},
   "outputs": [],
   "source": [
    "omm.getIntegrator().step(1000)"
   ]
  },
  {
   "cell_type": "code",
   "execution_count": null,
   "metadata": {},
   "outputs": [],
   "source": [
    "omm.get_potential_energy()"
   ]
  },
  {
   "cell_type": "code",
   "execution_count": null,
   "metadata": {},
   "outputs": [],
   "source": [
    "omm.set_lambda(0.0)\n",
    "omm.get_potential_energy()"
   ]
  },
  {
   "cell_type": "code",
   "execution_count": null,
   "metadata": {},
   "outputs": [],
   "source": []
  }
 ],
 "metadata": {
  "kernelspec": {
   "display_name": "sireDEV",
   "language": "python",
   "name": "python3"
  },
  "language_info": {
   "codemirror_mode": {
    "name": "ipython",
    "version": 3
   },
   "file_extension": ".py",
   "mimetype": "text/x-python",
   "name": "python",
   "nbconvert_exporter": "python",
   "pygments_lexer": "ipython3"
  }
 },
 "nbformat": 4,
 "nbformat_minor": 2
}
