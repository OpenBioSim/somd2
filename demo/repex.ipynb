{
 "cells": [
  {
   "cell_type": "code",
   "execution_count": null,
   "id": "510fe067-ffb7-45d1-a18e-8aaf27f8036d",
   "metadata": {},
   "outputs": [],
   "source": [
    "import sire as sr"
   ]
  },
  {
   "cell_type": "markdown",
   "id": "a2912617-c78d-40c1-b846-c3d4633bd7d9",
   "metadata": {},
   "source": [
    "Load an example perturbable system"
   ]
  },
  {
   "cell_type": "code",
   "execution_count": null,
   "id": "957ecaa8-6885-441a-9c5a-c59671522c9b",
   "metadata": {},
   "outputs": [],
   "source": [
    "mols = sr.load_test_files(\"merged_molecule.s3\")"
   ]
  },
  {
   "cell_type": "markdown",
   "id": "e393e257-a50d-4204-97d2-0ddd9a2d60b4",
   "metadata": {},
   "source": [
    "Create two replicas of the system, at two different lambda values"
   ]
  },
  {
   "cell_type": "code",
   "execution_count": null,
   "id": "75b9681f-59cf-424e-ba00-b7d63415c396",
   "metadata": {},
   "outputs": [],
   "source": [
    "rep0 = mols.dynamics(timestep=\"4fs\", temperature=\"25oC\", lambda_value=0.0)"
   ]
  },
  {
   "cell_type": "code",
   "execution_count": null,
   "id": "e7f24c6f-8c69-475c-bd0b-c576ee8419f5",
   "metadata": {},
   "outputs": [],
   "source": [
    "rep1 = mols.dynamics(timestep=\"4fs\", temperature=\"25oC\", lambda_value=0.2)"
   ]
  },
  {
   "cell_type": "markdown",
   "id": "38ebb8b1-7056-4873-b87a-1a1d8754472c",
   "metadata": {},
   "source": [
    "Run dynamics on both replicas. We'll minimise each replica first, to prevent NaN errors. The error catching will mostly catch these and auto-minimise if found (i.e. you could comment out the minimisation lines)"
   ]
  },
  {
   "cell_type": "code",
   "execution_count": null,
   "id": "c7f26b29-f270-4b0a-aeba-7200c9439945",
   "metadata": {},
   "outputs": [],
   "source": [
    "rep0.minimise()\n",
    "rep0.run(\"5ps\")"
   ]
  },
  {
   "cell_type": "code",
   "execution_count": null,
   "id": "158c49b5-4a42-4697-8e59-4e682f1905de",
   "metadata": {},
   "outputs": [],
   "source": [
    "rep1.minimise()\n",
    "rep1.run(\"5ps\")"
   ]
  },
  {
   "cell_type": "markdown",
   "id": "38d21dfe-212f-480a-9d0e-2a1934fa93af",
   "metadata": {},
   "source": [
    "Perform a replica exchange move between these two replicas. If the move passes, then the replicas are swapped (by swapping their lambda values). They are returned from this function in the same lambda order as they went in (i.e. in increasing lambda order)"
   ]
  },
  {
   "cell_type": "code",
   "execution_count": null,
   "id": "6abfb021-1fd5-4faa-8b5c-f5631f88931c",
   "metadata": {},
   "outputs": [],
   "source": [
    "(rep0, rep1, swapped) = sr.morph.replica_exchange(rep0, rep1)"
   ]
  },
  {
   "cell_type": "markdown",
   "id": "dc19d9c6-14ed-4807-bc05-741b09219370",
   "metadata": {},
   "source": [
    "Was the move successful?"
   ]
  },
  {
   "cell_type": "code",
   "execution_count": null,
   "id": "9ac37cac-a278-431d-a50d-ce0d45f0dd10",
   "metadata": {},
   "outputs": [],
   "source": [
    "print(\"Swapped?\", swapped)"
   ]
  },
  {
   "cell_type": "markdown",
   "id": "cfd648a1-9f90-4a5f-92a6-7453c2a1e6fe",
   "metadata": {},
   "source": [
    "Even if they were swapped, the order of lambda is preserved"
   ]
  },
  {
   "cell_type": "code",
   "execution_count": null,
   "id": "12a7e248-881b-4ec4-be65-9c65d25541cc",
   "metadata": {},
   "outputs": [],
   "source": [
    "print(rep0.get_lambda(), rep1.get_lambda())"
   ]
  },
  {
   "cell_type": "code",
   "execution_count": null,
   "id": "c0dcd2ac-c5e6-4031-bdf8-0e4946773215",
   "metadata": {},
   "outputs": [],
   "source": []
  }
 ],
 "metadata": {
  "kernelspec": {
   "display_name": "Python 3 (ipykernel)",
   "language": "python",
   "name": "python3"
  },
  "language_info": {
   "codemirror_mode": {
    "name": "ipython",
    "version": 3
   },
   "file_extension": ".py",
   "mimetype": "text/x-python",
   "name": "python",
   "nbconvert_exporter": "python",
   "pygments_lexer": "ipython3"
  }
 },
 "nbformat": 4,
 "nbformat_minor": 5
}
