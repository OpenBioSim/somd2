{
 "cells": [
  {
   "cell_type": "code",
   "execution_count": null,
   "metadata": {},
   "outputs": [],
   "source": [
    "import sire as sr\n",
    "import BioSimSpace as BSS"
   ]
  },
  {
   "cell_type": "markdown",
   "metadata": {},
   "source": [
    "# Merged Molecules\n",
    "This section will demonstrate the creation and visualisation of perturbations using BioSimSpace and sire, the system in this case will be a simple ethane &rarr; methanol transformation"
   ]
  },
  {
   "cell_type": "code",
   "execution_count": null,
   "metadata": {},
   "outputs": [],
   "source": [
    "ethane = BSS.Parameters.gaff(\"CC\").getMolecule()\n",
    "methanol = BSS.Parameters.gaff(\"CO\").getMolecule()\n",
    "mapping = BSS.Align.matchAtoms(ethane, methanol)\n",
    "ethane = BSS.Align.rmsdAlign(ethane, methanol, mapping)\n",
    "merged = BSS.Align.merge(ethane, methanol, mapping)\n",
    "\n",
    "solvated = BSS.Solvent.tip3p(molecule=merged, box=3 * [3 * BSS.Units.Length.nanometer])"
   ]
  },
  {
   "cell_type": "code",
   "execution_count": null,
   "metadata": {},
   "outputs": [],
   "source": [
    "# Extract the sire system\n",
    "sire_system = sr.system.System(solvated._sire_object)"
   ]
  },
  {
   "cell_type": "code",
   "execution_count": null,
   "metadata": {},
   "outputs": [],
   "source": [
    "for mol in sire_system.molecules():\n",
    "    if mol.is_perturbable():\n",
    "        temp = mol\n",
    "\n",
    "temp.perturbation().view()"
   ]
  },
  {
   "cell_type": "markdown",
   "metadata": {},
   "source": [
    "# Custom lambda scheduling\n",
    "This section will demonstrate the creation and implementation of custom lambda scheduling in sire.\n",
    "\n",
    "First, create an empty lambda schedule"
   ]
  },
  {
   "cell_type": "code",
   "execution_count": null,
   "metadata": {},
   "outputs": [],
   "source": [
    "l = sr.cas.LambdaSchedule()\n",
    "l"
   ]
  },
  {
   "cell_type": "markdown",
   "metadata": {},
   "source": [
    "Add a simple morph to the lambda schedule"
   ]
  },
  {
   "cell_type": "code",
   "execution_count": null,
   "metadata": {},
   "outputs": [],
   "source": [
    "l.add_stage(\"morphing\", (1 - l.lam()) * l.initial() + l.lam() * l.final())"
   ]
  },
  {
   "cell_type": "markdown",
   "metadata": {},
   "source": [
    "This lambda schedule can then be converted to a dataframe and visualised"
   ]
  },
  {
   "cell_type": "code",
   "execution_count": null,
   "metadata": {},
   "outputs": [],
   "source": [
    "df = l.get_lever_values(to_pandas=True, initial=0, final=1, num_lambda=10)\n",
    "df.plot()"
   ]
  },
  {
   "cell_type": "markdown",
   "metadata": {},
   "source": [
    "More complex schedules can be created by adding levers to specific properties using add_lever "
   ]
  },
  {
   "cell_type": "code",
   "execution_count": null,
   "metadata": {},
   "outputs": [],
   "source": [
    "# Create a new lambda schedule\n",
    "l_complex = sr.cas.LambdaSchedule()\n",
    "\n",
    "# Add multiple stages. The charging stages currently act only to set parameters equal to their initial/final values.\n",
    "l_complex.add_stage(\"de-charging\", l_complex.initial())\n",
    "l_complex.add_stage(\n",
    "    \"morphing\",\n",
    "    (1 - l_complex.lam()) * l_complex.initial() + l_complex.lam() * l_complex.final(),\n",
    ")\n",
    "l_complex.add_stage(\"re-charging\", l_complex.final())\n",
    "\n",
    "# By adding levers the de-charging and re-charging stages can be applied to specific properties, in this case charge\n",
    "l_complex.add_lever(\"charge\")\n",
    "l_complex.set_equation(\n",
    "    \"de-charging\", \"charge\", (1.0 - 0.8 * l_complex.lam()) * l_complex.initial()\n",
    ")\n",
    "l_complex.set_equation(\n",
    "    \"re-charging\", \"charge\", (0.2 + 0.8 * l_complex.lam()) * l_complex.final()\n",
    ")\n",
    "\n",
    "# We also need to morph the charges scaled by 0.2 (since we scale down to 0.2)\n",
    "l_complex.set_equation(\n",
    "    \"morphing\",\n",
    "    \"charge\",\n",
    "    0.2\n",
    "    * (\n",
    "        (1 - l_complex.lam()) * l_complex.initial()\n",
    "        + l_complex.lam() * l_complex.final()\n",
    "    ),\n",
    ")"
   ]
  },
  {
   "cell_type": "code",
   "execution_count": null,
   "metadata": {},
   "outputs": [],
   "source": [
    "df_complex = l_complex.get_lever_values(\n",
    "    to_pandas=True, initial=0, final=1, num_lambda=10\n",
    ")\n",
    "df_complex.plot()"
   ]
  },
  {
   "cell_type": "code",
   "execution_count": null,
   "metadata": {},
   "outputs": [],
   "source": []
  }
 ],
 "metadata": {
  "kernelspec": {
   "display_name": "sireDEV",
   "language": "python",
   "name": "python3"
  },
  "language_info": {
   "codemirror_mode": {
    "name": "ipython",
    "version": 3
   },
   "file_extension": ".py",
   "mimetype": "text/x-python",
   "name": "python",
   "nbconvert_exporter": "python",
   "pygments_lexer": "ipython3"
  }
 },
 "nbformat": 4,
 "nbformat_minor": 2
}
